{
 "cells": [
  {
   "cell_type": "markdown",
   "metadata": {},
   "source": [
    "#### Install required libraries"
   ]
  },
  {
   "cell_type": "code",
   "execution_count": 5,
   "metadata": {},
   "outputs": [
    {
     "name": "stdout",
     "output_type": "stream",
     "text": [
      "Requirement already satisfied: streamlit==1.41.1 in ./venv/lib/python3.11/site-packages (from -r requirements.txt (line 1)) (1.41.1)\n",
      "Requirement already satisfied: altair<6,>=4.0 in ./venv/lib/python3.11/site-packages (from streamlit==1.41.1->-r requirements.txt (line 1)) (5.5.0)\n",
      "Requirement already satisfied: blinker<2,>=1.0.0 in ./venv/lib/python3.11/site-packages (from streamlit==1.41.1->-r requirements.txt (line 1)) (1.9.0)\n",
      "Requirement already satisfied: cachetools<6,>=4.0 in ./venv/lib/python3.11/site-packages (from streamlit==1.41.1->-r requirements.txt (line 1)) (5.5.0)\n",
      "Requirement already satisfied: click<9,>=7.0 in ./venv/lib/python3.11/site-packages (from streamlit==1.41.1->-r requirements.txt (line 1)) (8.1.8)\n",
      "Requirement already satisfied: numpy<3,>=1.23 in ./venv/lib/python3.11/site-packages (from streamlit==1.41.1->-r requirements.txt (line 1)) (2.2.1)\n",
      "Requirement already satisfied: packaging<25,>=20 in ./venv/lib/python3.11/site-packages (from streamlit==1.41.1->-r requirements.txt (line 1)) (24.2)\n",
      "Requirement already satisfied: pandas<3,>=1.4.0 in ./venv/lib/python3.11/site-packages (from streamlit==1.41.1->-r requirements.txt (line 1)) (2.2.3)\n",
      "Requirement already satisfied: pillow<12,>=7.1.0 in ./venv/lib/python3.11/site-packages (from streamlit==1.41.1->-r requirements.txt (line 1)) (11.1.0)\n",
      "Requirement already satisfied: protobuf<6,>=3.20 in ./venv/lib/python3.11/site-packages (from streamlit==1.41.1->-r requirements.txt (line 1)) (5.29.3)\n",
      "Requirement already satisfied: pyarrow>=7.0 in ./venv/lib/python3.11/site-packages (from streamlit==1.41.1->-r requirements.txt (line 1)) (18.1.0)\n",
      "Requirement already satisfied: requests<3,>=2.27 in ./venv/lib/python3.11/site-packages (from streamlit==1.41.1->-r requirements.txt (line 1)) (2.32.3)\n",
      "Requirement already satisfied: rich<14,>=10.14.0 in ./venv/lib/python3.11/site-packages (from streamlit==1.41.1->-r requirements.txt (line 1)) (13.9.4)\n",
      "Requirement already satisfied: tenacity<10,>=8.1.0 in ./venv/lib/python3.11/site-packages (from streamlit==1.41.1->-r requirements.txt (line 1)) (9.0.0)\n",
      "Requirement already satisfied: toml<2,>=0.10.1 in ./venv/lib/python3.11/site-packages (from streamlit==1.41.1->-r requirements.txt (line 1)) (0.10.2)\n",
      "Requirement already satisfied: typing-extensions<5,>=4.3.0 in ./venv/lib/python3.11/site-packages (from streamlit==1.41.1->-r requirements.txt (line 1)) (4.12.2)\n",
      "Requirement already satisfied: gitpython!=3.1.19,<4,>=3.0.7 in ./venv/lib/python3.11/site-packages (from streamlit==1.41.1->-r requirements.txt (line 1)) (3.1.44)\n",
      "Requirement already satisfied: pydeck<1,>=0.8.0b4 in ./venv/lib/python3.11/site-packages (from streamlit==1.41.1->-r requirements.txt (line 1)) (0.9.1)\n",
      "Requirement already satisfied: tornado<7,>=6.0.3 in ./venv/lib/python3.11/site-packages (from streamlit==1.41.1->-r requirements.txt (line 1)) (6.4.2)\n",
      "Requirement already satisfied: jinja2 in ./venv/lib/python3.11/site-packages (from altair<6,>=4.0->streamlit==1.41.1->-r requirements.txt (line 1)) (3.1.5)\n",
      "Requirement already satisfied: jsonschema>=3.0 in ./venv/lib/python3.11/site-packages (from altair<6,>=4.0->streamlit==1.41.1->-r requirements.txt (line 1)) (4.23.0)\n",
      "Requirement already satisfied: narwhals>=1.14.2 in ./venv/lib/python3.11/site-packages (from altair<6,>=4.0->streamlit==1.41.1->-r requirements.txt (line 1)) (1.22.0)\n",
      "Requirement already satisfied: gitdb<5,>=4.0.1 in ./venv/lib/python3.11/site-packages (from gitpython!=3.1.19,<4,>=3.0.7->streamlit==1.41.1->-r requirements.txt (line 1)) (4.0.12)\n",
      "Requirement already satisfied: python-dateutil>=2.8.2 in ./venv/lib/python3.11/site-packages (from pandas<3,>=1.4.0->streamlit==1.41.1->-r requirements.txt (line 1)) (2.9.0.post0)\n",
      "Requirement already satisfied: pytz>=2020.1 in ./venv/lib/python3.11/site-packages (from pandas<3,>=1.4.0->streamlit==1.41.1->-r requirements.txt (line 1)) (2024.2)\n",
      "Requirement already satisfied: tzdata>=2022.7 in ./venv/lib/python3.11/site-packages (from pandas<3,>=1.4.0->streamlit==1.41.1->-r requirements.txt (line 1)) (2024.2)\n",
      "Requirement already satisfied: charset-normalizer<4,>=2 in ./venv/lib/python3.11/site-packages (from requests<3,>=2.27->streamlit==1.41.1->-r requirements.txt (line 1)) (3.4.1)\n",
      "Requirement already satisfied: idna<4,>=2.5 in ./venv/lib/python3.11/site-packages (from requests<3,>=2.27->streamlit==1.41.1->-r requirements.txt (line 1)) (3.10)\n",
      "Requirement already satisfied: urllib3<3,>=1.21.1 in ./venv/lib/python3.11/site-packages (from requests<3,>=2.27->streamlit==1.41.1->-r requirements.txt (line 1)) (2.3.0)\n",
      "Requirement already satisfied: certifi>=2017.4.17 in ./venv/lib/python3.11/site-packages (from requests<3,>=2.27->streamlit==1.41.1->-r requirements.txt (line 1)) (2024.12.14)\n",
      "Requirement already satisfied: markdown-it-py>=2.2.0 in ./venv/lib/python3.11/site-packages (from rich<14,>=10.14.0->streamlit==1.41.1->-r requirements.txt (line 1)) (3.0.0)\n",
      "Requirement already satisfied: pygments<3.0.0,>=2.13.0 in ./venv/lib/python3.11/site-packages (from rich<14,>=10.14.0->streamlit==1.41.1->-r requirements.txt (line 1)) (2.19.1)\n",
      "Requirement already satisfied: smmap<6,>=3.0.1 in ./venv/lib/python3.11/site-packages (from gitdb<5,>=4.0.1->gitpython!=3.1.19,<4,>=3.0.7->streamlit==1.41.1->-r requirements.txt (line 1)) (5.0.2)\n",
      "Requirement already satisfied: MarkupSafe>=2.0 in ./venv/lib/python3.11/site-packages (from jinja2->altair<6,>=4.0->streamlit==1.41.1->-r requirements.txt (line 1)) (3.0.2)\n",
      "Requirement already satisfied: attrs>=22.2.0 in ./venv/lib/python3.11/site-packages (from jsonschema>=3.0->altair<6,>=4.0->streamlit==1.41.1->-r requirements.txt (line 1)) (24.3.0)\n",
      "Requirement already satisfied: jsonschema-specifications>=2023.03.6 in ./venv/lib/python3.11/site-packages (from jsonschema>=3.0->altair<6,>=4.0->streamlit==1.41.1->-r requirements.txt (line 1)) (2024.10.1)\n",
      "Requirement already satisfied: referencing>=0.28.4 in ./venv/lib/python3.11/site-packages (from jsonschema>=3.0->altair<6,>=4.0->streamlit==1.41.1->-r requirements.txt (line 1)) (0.35.1)\n",
      "Requirement already satisfied: rpds-py>=0.7.1 in ./venv/lib/python3.11/site-packages (from jsonschema>=3.0->altair<6,>=4.0->streamlit==1.41.1->-r requirements.txt (line 1)) (0.22.3)\n",
      "Requirement already satisfied: mdurl~=0.1 in ./venv/lib/python3.11/site-packages (from markdown-it-py>=2.2.0->rich<14,>=10.14.0->streamlit==1.41.1->-r requirements.txt (line 1)) (0.1.2)\n",
      "Requirement already satisfied: six>=1.5 in ./venv/lib/python3.11/site-packages (from python-dateutil>=2.8.2->pandas<3,>=1.4.0->streamlit==1.41.1->-r requirements.txt (line 1)) (1.17.0)\n",
      "\n",
      "\u001b[1m[\u001b[0m\u001b[34;49mnotice\u001b[0m\u001b[1;39;49m]\u001b[0m\u001b[39;49m A new release of pip is available: \u001b[0m\u001b[31;49m23.1.2\u001b[0m\u001b[39;49m -> \u001b[0m\u001b[32;49m24.3.1\u001b[0m\n",
      "\u001b[1m[\u001b[0m\u001b[34;49mnotice\u001b[0m\u001b[1;39;49m]\u001b[0m\u001b[39;49m To update, run: \u001b[0m\u001b[32;49mpip install --upgrade pip\u001b[0m\n"
     ]
    }
   ],
   "source": [
    "!pip install -r requirements.txt"
   ]
  }
 ],
 "metadata": {
  "kernelspec": {
   "display_name": "venv",
   "language": "python",
   "name": "python3"
  },
  "language_info": {
   "codemirror_mode": {
    "name": "ipython",
    "version": 3
   },
   "file_extension": ".py",
   "mimetype": "text/x-python",
   "name": "python",
   "nbconvert_exporter": "python",
   "pygments_lexer": "ipython3",
   "version": "3.11.4"
  }
 },
 "nbformat": 4,
 "nbformat_minor": 2
}
